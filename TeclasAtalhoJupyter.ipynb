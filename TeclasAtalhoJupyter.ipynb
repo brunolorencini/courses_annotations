{
 "cells": [
  {
   "cell_type": "markdown",
   "metadata": {
    "collapsed": true
   },
   "source": [
    "# Keyboard shortcuts\n",
    "\n",
    "Neste caderno, você terá alguma prática usando atalhos de teclado. Essas são a chave para se tornar proficiente no uso de notebooks e aumentará muito sua velocidade de trabalho.\n",
    "\n",
    "Primeiro, alternando entre o modo de edição e o modo de comando. O modo de edição permite que você digite em células, enquanto o modo de comando usará pressionamentos de tecla para executar comandos, como a criação de novas células e a abertura da paleta de comandos. Quando você seleciona uma célula, você pode dizer em qual modo você está trabalhando atualmente pela cor da caixa ao redor da célula. No modo de edição, a caixa e a borda esquerda são coloridas em verde. No modo de comando, eles são coloridos em azul. Também no modo de edição, você deve ver um cursor na própria célula.\n",
    "\n",
    "Por padrão, quando você cria uma nova célula ou passa para a próxima, você estará no modo de comando. Para entrar no modo de edição, pressione Enter / Return. Para voltar do modo de edição para o modo de comando, pressione Escape.\n",
    "\n",
    "> **Exercise:** Clique nessa célula e pressione Enter + Shift para chegar à próxima célula. Alterne entre o modo de edição e o de comando algumas vezes."
   ]
  },
  {
   "cell_type": "code",
   "execution_count": 2,
   "metadata": {},
   "outputs": [],
   "source": [
    "# mode practice"
   ]
  },
  {
   "cell_type": "markdown",
   "metadata": {},
   "source": [
    "## Ajuda com comandos \n",
    "\n",
    "Se você precisar procurar um comando, poderá abrir a lista de atalhos pressionando Hno modo de comando. Os atalhos de teclado também estão disponíveis acima no menu Ajuda. Vá em frente e tente agora."
   ]
  },
  {
   "cell_type": "markdown",
   "metadata": {},
   "source": [
    "## Criando novas células \n",
    "Um dos comandos mais comuns é criar novas células. Você pode criar uma célula acima da célula atual pressionando Ano modo de comando. Pressionar Bcriará uma célula abaixo da célula atualmente selecionada."
   ]
  },
  {
   "cell_type": "markdown",
   "metadata": {},
   "source": [
    "> **Exercise:**: Crie uma célula acima desta célula usando o comando keyboard"
   ]
  },
  {
   "cell_type": "markdown",
   "metadata": {},
   "source": [
    "> **Exercise:** Crie uma célula abaixo desta célula usando o comando do teclado."
   ]
  },
  {
   "cell_type": "markdown",
   "metadata": {},
   "source": [
    "## Alternando entre markdown e código ¶\n",
    "Com os atalhos de teclado, é rápido e simples alternar entre Markdown e as células de código. Para mudar de Markdown para cell, pressione Y. Para alternar do código para Markdown, pressione M.\n",
    "\n",
    "> **Exercise:** alterne a célula abaixo entre Markdown e células de código."
   ]
  },
  {
   "cell_type": "code",
   "execution_count": 3,
   "metadata": {},
   "outputs": [],
   "source": [
    "## Practice here\n",
    "\n",
    "def fibo(n): # Recursive Fibonacci sequence!\n",
    "    if n == 0:\n",
    "        return 0\n",
    "    elif n == 1:\n",
    "        return 1\n",
    "    return fibo(n-1) + fibo(n-2)"
   ]
  },
  {
   "cell_type": "markdown",
   "metadata": {},
   "source": [
    "## Números de linha \n",
    "Muitas vezes é útil numerar as linhas em seu código para fins de depuração. Você pode ativar os números pressionando L(no modo de comando, é claro) em uma célula de código.\n",
    "\n",
    "> **Exercise:** Ligue e desligue os números de linha na célula de código acima."
   ]
  },
  {
   "cell_type": "markdown",
   "metadata": {},
   "source": [
    "## Excluindo células \n",
    "Exclusão de células é feito pressionando Dduas vezes consecutivas para que D, D. Isso é para evitar exclusões acidentalmente, você tem que pressionar o botão duas vezes!\n",
    "\n",
    "> **Exercise:** Apague a célula abaixo."
   ]
  },
  {
   "cell_type": "code",
   "execution_count": 4,
   "metadata": {},
   "outputs": [],
   "source": [
    "# DELETE ME"
   ]
  },
  {
   "cell_type": "markdown",
   "metadata": {},
   "source": [
    "## Salvando o notebook \n",
    "Os cadernos são salvos automaticamente de vez em quando, mas muitas vezes você quer salvar seu trabalho entre esses momentos. Para salvar o livro, pressione S. Tão fácil!"
   ]
  },
  {
   "cell_type": "markdown",
   "metadata": {},
   "source": [
    "## A paleta de comandos \n",
    "Você pode acessar facilmente a paleta de comandos pressionando Shift + Control / Command + P.\n",
    "\n",
    "> **Note:** Isso não funcionará no Firefox e no Internet Explorer, infelizmente. Já existe um atalho de teclado atribuído a essas chaves nesses navegadores. No entanto, funciona no Chrome e no Safari.\n",
    "\n",
    "Isso abrirá a paleta de comandos, onde você pode procurar por comandos que não estão disponíveis através dos atalhos de teclado. Por exemplo, existem botões na barra de ferramentas que movem as células para cima e para baixo (as setas para cima e para baixo), mas não há atalhos de teclado correspondentes. Para mover uma célula para baixo, você pode abrir a paleta de comandos e digitar \"move\", o que trará os comandos de movimentação.\n",
    "\n",
    "> **Exercise:** Use a paleta de comando para mover a célula abaixo de uma posição."
   ]
  },
  {
   "cell_type": "code",
   "execution_count": 5,
   "metadata": {},
   "outputs": [],
   "source": [
    "# Move this cell down"
   ]
  },
  {
   "cell_type": "code",
   "execution_count": 6,
   "metadata": {},
   "outputs": [],
   "source": [
    "# below this cell"
   ]
  },
  {
   "cell_type": "markdown",
   "metadata": {},
   "source": [
    "## Finalizando \n",
    "Há muito mais que você pode fazer, como copiar, recortar e colar células. Sugiro me acostumar a usar os atalhos de teclado, você será muito mais rápido em trabalhar em notebooks. Quando você se tornar proficiente com eles, raramente precisará afastar as mãos do teclado, acelerando bastante o seu trabalho.\n",
    "\n",
    "Lembre-se, se você precisar ver os atalhos, basta pressionar Hno modo de comando."
   ]
  },
  {
   "cell_type": "code",
   "execution_count": null,
   "metadata": {},
   "outputs": [],
   "source": []
  },
  {
   "cell_type": "code",
   "execution_count": null,
   "metadata": {},
   "outputs": [],
   "source": []
  }
 ],
 "metadata": {
  "anaconda-cloud": {},
  "kernelspec": {
   "display_name": "Python 3",
   "language": "python",
   "name": "python3"
  },
  "language_info": {
   "codemirror_mode": {
    "name": "ipython",
    "version": 3
   },
   "file_extension": ".py",
   "mimetype": "text/x-python",
   "name": "python",
   "nbconvert_exporter": "python",
   "pygments_lexer": "ipython3",
   "version": "3.6.5"
  }
 },
 "nbformat": 4,
 "nbformat_minor": 1
}
