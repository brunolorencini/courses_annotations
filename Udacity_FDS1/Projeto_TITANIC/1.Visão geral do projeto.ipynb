{
 "cells": [
  {
   "cell_type": "markdown",
   "metadata": {},
   "source": [
    "# Anotaçoes Projeto 2 FDS1"
   ]
  },
  {
   "cell_type": "markdown",
   "metadata": {},
   "source": [
    "<div class=\"index--markdown--3w8oF ureact-markdown \"><h2 id=\"vis-o-geral-do-projeto\">Visão geral do projeto</h2>\n",
    "<p>Neste projeto, você vai analisar um conjunto de dados e, em seguida, comunicar suas conclusões sobre o assunto. Você vai usar as bibliotecas NumPy, Pandas e Matplotlib para facilitar sua análise.</p>\n",
    "<h2 id=\"o-que-necess-rio-instalar-\">O que é necessário instalar?</h2>\n",
    "<p>Você precisará instalar o Python, além das seguintes bibliotecas:</p>\n",
    "<pre><code><span class=\"hljs-bullet\">* </span>pandas\n",
    "<span class=\"hljs-bullet\">* </span>numpy\n",
    "<span class=\"hljs-bullet\">* </span>matplotlib\n",
    "<span class=\"hljs-bullet\">* </span>csv\n",
    "</code></pre><p>Recomendamos a instalação do <a target=\"_blank\" href=\"https://www.continuum.io/downloads\">Anaconda</a>, que vem com todos os pacotes necessários, bem como o notebook iPython.</p>\n",
    "<h2 id=\"por-que-este-projeto-\">Por que este projeto?</h2>\n",
    "<p>Este projeto irá apresentar você ao processo de análise de dados que será usado em todo o resto do programa Nanodegree. Nele, você vai passar por todo o processo para compreender como todas as peças se encaixam. Mais adiante, os projetos do Nanodegree focarão nas partes individuais do processo de análise de dados. Neste projeto, você também vai adquirir experiência usando as bibliotecas Numpy, Pandas e Matplotlib, que facilitam muito a escrita de códigos.</p>\n",
    "<h2 id=\"o-que-vou-aprender-\">O que vou aprender?</h2>\n",
    "<p>Após a conclusão do projeto, você irá:</p>\n",
    "<ul>\n",
    "<li>Saber todos os passos envolvidos em um processo de análise de dados típico</li>\n",
    "<li>Sentir-se confortável para fazer perguntas que podem ser respondidas por um conjunto de dados e, em seguida, respondê-las</li>\n",
    "<li>Saber como investigar problemas em um conjunto de dados e confrontrar os dados em um formato que você possa usar</li>\n",
    "<li>Adquirir prática em comunicar os resultados de sua análise</li>\n",
    "<li>Ser capaz de usar as operações vetorizadas no NumPy e Pandas para acelerar seu código de análise de dados</li>\n",
    "<li>Ter familiaridade com objetos, séries e o banco de dados Pandas, que permitem acessar seus dados de forma mais conveniente</li>\n",
    "<li>Saber usar o Matplotlib para produzir gráficos mostrando suas descobertas</li>\n",
    "</ul>\n",
    "<h2 id=\"por-que-isso-importante-para-minha-carreira-\">Por que isso é importante para minha carreira?</h2>\n",
    "<p>Com este projeto, você conseguirá diversas habilidades em análise de dados e, ainda, poderá mostrar a potenciais empregadores que sabe produzir todo o processo de análise de dados</p>\n",
    "</div>"
   ]
  },
  {
   "cell_type": "code",
   "execution_count": null,
   "metadata": {},
   "outputs": [],
   "source": []
  }
 ],
 "metadata": {
  "kernelspec": {
   "display_name": "Python 3",
   "language": "python",
   "name": "python3"
  },
  "language_info": {
   "codemirror_mode": {
    "name": "ipython",
    "version": 3
   },
   "file_extension": ".py",
   "mimetype": "text/x-python",
   "name": "python",
   "nbconvert_exporter": "python",
   "pygments_lexer": "ipython3",
   "version": "3.6.5"
  }
 },
 "nbformat": 4,
 "nbformat_minor": 2
}
