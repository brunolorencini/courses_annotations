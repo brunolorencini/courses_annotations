{
 "cells": [
  {
   "cell_type": "markdown",
   "metadata": {},
   "source": [
    "<div class=\"index--body--2gqet layout--content--3Smmq layout--body--3U2qN\"><div><div class=\"index--due-at--2NaON\"><div class=\"due-at--due-at--2ujLU\" aria-describedby=\"tooltip-Tue Sep 18 2018 02:00:00 GMT-0300 (Brasilia Standard Time)\"><span><div class=\"label\">Prazo:</div> <div class=\"value\">Prazo:18/9/2018</div></span></div></div><h2 class=\"index--title--3eIzO\">Envio de projeto</h2></div><div class=\"ltr\"><div class=\"index-module--markdown--2MdcR ureact-markdown \"><p>Escolha uma das bases de dados selecionadas pela Udacity e a investigue usando o Numpy e o Pandas. Passe por todas as etapas do processo de análise de dados, desde a formulação de uma pergunta até o compartilhamento de suas descobertas.</p>\n",
    "<h2 id=\"avalia-o\">Avaliação</h2>\n",
    "<p>Use esta  <a target=\"_blank\" href=\"https://review.udacity.com/#!/rubrics/1765/view\"><strong>rubrica</strong></a> para revisar seu projeto. Continue seu trabalho até que esteja satisfeito com todos os itens!</p>\n",
    "<p>Seu projeto será avaliado por um mentor da Udacity, de acordo com os critérios da <a target=\"_blank\" href=\"https://review.udacity.com/#!/rubrics/1765/view\"><strong>rubrica</strong></a>. Seu projeto deve estar \"de acordo com as especificações\" ou \"exceder as especificações\" em todas as categorias para que seja aprovado.</p>\n",
    "<h2 id=\"envio\">Envio</h2>\n",
    "<h3 id=\"o-que-incluir-em-sua-entrega\">O que incluir em sua entrega</h3>\n",
    "<ol>\n",
    "<li><p>Um PDF ou HTML contendo sua análise. Este arquivo deve conter:</p>\n",
    "<ul>\n",
    "<li>Uma nota especificando qual foi o conjunto de dados usado</li>\n",
    "<li>Uma definição de qual pergunta você fez</li>\n",
    "<li>Uma descrição do que você fez para investigar a pergunta</li>\n",
    "<li>Descrição de qualquer limpeza de dados feita</li>\n",
    "<li>Um resumo das estatísticas e gráficos comunicando seu resultado final</li>\n",
    "</ul>\n",
    "</li>\n",
    "<li><p>O código usado para criar suas análises. Se você usou um notebook iPython, pode enviar seu <code>.ipynb</code>. Caso não o tenha feito, encaminhe os arquivos <code>.py</code>.</p>\n",
    "</li>\n",
    "<li><p>Uma lista de sites, livros, fóruns, postagens de blogs, repositórios do GitHub, etc. que você usou ou em que se baseou para criar o projeto (coloque N/A caso não tenha usado nenhum desses recursos).</p>\n",
    "</li>\n",
    "</ol>\n",
    "<h3 id=\"instru-es-do-notebook-ipython\">Instruções do notebook iPython</h3>\n",
    "<p>Se você usou um notebook iPython para criar suas análises, pode incluir seu código diretamente no notebook e não há necessidade de criar outros arquivos separadamente. Você ainda precisa exportar seu notebook em <code>.html</code>. Para fazer isso, vá até Arquivo -&gt; Baixar como -&gt; HTML (.html) dentro do notebook. Se receber um erro \"No module name\", abra seu terminal e tente instalar o módulo faltante usando o comando <code>pip install &lt;module_name&gt;</code> (não inclua \"&lt;\", \"&gt;\" ou qualquer outra palavra além do nome do módulo).</p>\n",
    "<h3 id=\"pronto-para-enviar-seu-projeto-\">Pronto para enviar seu projeto?</h3>\n",
    "<p>Volte para a página inicial da Udacity e clique no projeto. Siga as instruções de envio.</p>\n",
    "<p>Pode levar até uma semana para corrigirmos seu projeto, mas em geral levamos até 24h. Você receberá um e-mail quando a revisão estiver pronta. Você também pode verificar o status de seu envio nesta página.</p>\n",
    "<p>Caso tenha algum problema no envio de seu projeto, entre em contato conosco pelo e-mail <a target=\"_blank\" href=\"mailto:suporte@udacity.com\">suporte@udacity.com</a>.</p>\n",
    "</div></div></div>"
   ]
  },
  {
   "cell_type": "code",
   "execution_count": null,
   "metadata": {},
   "outputs": [],
   "source": []
  }
 ],
 "metadata": {
  "kernelspec": {
   "display_name": "Python 3",
   "language": "python",
   "name": "python3"
  },
  "language_info": {
   "codemirror_mode": {
    "name": "ipython",
    "version": 3
   },
   "file_extension": ".py",
   "mimetype": "text/x-python",
   "name": "python",
   "nbconvert_exporter": "python",
   "pygments_lexer": "ipython3",
   "version": "3.6.5"
  }
 },
 "nbformat": 4,
 "nbformat_minor": 2
}
