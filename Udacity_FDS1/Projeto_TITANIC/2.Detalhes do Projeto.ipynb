{
 "cells": [
  {
   "cell_type": "markdown",
   "metadata": {},
   "source": [
    "<div id=\"main-layout-content\" aria-labelledby=\"header-title\" class=\"_body--body---gSRI\"><div data-test=\"concept-main\" class=\"_main--main--3mpPA\"><div class=\"_main--content-container--ILkoI\"><div><div class=\"index--container--2OwOl\"><div class=\"index--atom--lmAIo layout--content--3Smmq\"><div class=\"ltr\"><div class=\"index--markdown--3w8oF ureact-markdown \"><h3 id=\"introdu-o\">Introdução</h3>\n",
    "<p>Para o projeto final, você vai realizar sua própria análise de dados e criar um arquivo que documenta suas descobertas e pode ser compartilhado. Você começará dando uma olhada em seu conjunto de dados e fazendo um brainstorming de perguntas às quais poderia responder. Depois, deverá usar Pandas e NumPy para responder às perguntas que mais interessam e criar um relatório compartilhando com as respostas. Você não será obrigado a usar estatísticas nem deep learning para concluir este projeto, mas deve deixar claro em suas comunicações que suas conclusões não são definitivas. Este projeto é aberto, no sentido que não estamos à procura de uma resposta exata.</p>\n",
    "<h3 id=\"passo-1-obtendo-o-conjunto-de-dados\">Passo 1 - Obtendo o conjunto de dados</h3>\n",
    "<ul>\n",
    "<li><p><a target=\"_blank\" href=\"https://d17h27t6h515a5.cloudfront.net/topher/2017/October/59e4fe3d_titanic-data-6/titanic-data-6.csv\">Dados do Titanic</a> - contém dados demográficos e informações de 891 dos 2.224 passageiros e tripulantes a bordo do Titanic. Você pode ver uma descrição deste conjunto de dados no <a target=\"_blank\" href=\"https://www.kaggle.com/c/titanic/data\">site do Kaggle</a>, de onde os dados foram tirados.</p>\n",
    "<p>  Escolha a versão delimitada por vírgulas, que contém arquivos CSV.</p>\n",
    "</li>\n",
    "</ul>\n",
    "<h3 id=\"passo-2-organizando-se\">Passo 2 - Organizando-se</h3>\n",
    "<p>Eventualmente, você vai querer enviar seu projeto (e compartilhá-lo com amigos, familiares e empregadores). Organize-se antes de começar. Nós recomendamos a criação de uma única pasta, que conterá:</p>\n",
    "<ul>\n",
    "<li>O <strong>relatório</strong> comunicando suas descobertas</li>\n",
    "<li>Todo o <strong>código Python</strong> que você escreveu como parte de sua análise</li>\n",
    "<li>O <strong>conjunto de dados</strong> que você usou (que não precisa ser enviado)</li>\n",
    "</ul>\n",
    "<p>Você pode usar um notebook iPython e usar o mesmo arquivo para mostrar tanto o código que você escreveu como o relatório com suas descobertas. Caso contrário, terá de apresentar seu relatório e o código separadamente.</p>\n",
    "<h3 id=\"passo-3-analisando-os-dados\">Passo 3 - Analisando os dados</h3>\n",
    "<p>Faça um brainstorm para chegar a algumas perguntas a que você poderia responder usando o conjunto de dados que escolheu e, em seguida, comece a respondê-las. Aqui está uma ideia para te inspirar:</p>\n",
    "<ul>\n",
    "<li>Dados do Titanic<ul>\n",
    "<li>Quais foram os fatores que fizeram com que algumas pessoas fossem mais propensas a sobreviver?</li>\n",
    "</ul>\n",
    "</li>\n",
    "</ul>\n",
    "<p>Faça testes e sugira perguntas que promovam olhar para relacionamentos entre múltiplas variáveis. Você deve analisar pelo menos uma variável dependente e três variáveis ​​independentes em sua investigação. Certifique-se de usar NumPy e Pandas onde apropriado!</p>\n",
    "<h3 id=\"passo-4-compartilhando-suas-descobertas\">Passo 4 - Compartilhando suas descobertas</h3>\n",
    "<p>Depois de terminar a análise dos dados, crie um relatório que compartilhe os resultados que achou mais interessantes. Você pode usar um notebook iPython para compartilhar suas descobertas junto ao código usado na análise, mas também pode usar uma outra ferramenta, se desejar.</p>\n",
    "<h3 id=\"passo-5-revisando\">Passo 5 - Revisando</h3>\n",
    "<p>Use a <a target=\"_blank\" href=\"https://review.udacity.com/#!/rubrics/1765/view\"><strong>rubrica do projeto</strong></a> para revisá-lo. Se você estiver feliz com seu trabalho, envie o projeto. Caso veja espaço para melhorias, continue trabalhando para melhorar seu projeto.</p>\n"
   ]
  },
  {
   "cell_type": "markdown",
   "metadata": {},
   "source": []
  }
 ],
 "metadata": {
  "kernelspec": {
   "display_name": "Python 3",
   "language": "python",
   "name": "python3"
  },
  "language_info": {
   "codemirror_mode": {
    "name": "ipython",
    "version": 3
   },
   "file_extension": ".py",
   "mimetype": "text/x-python",
   "name": "python",
   "nbconvert_exporter": "python",
   "pygments_lexer": "ipython3",
   "version": "3.6.5"
  }
 },
 "nbformat": 4,
 "nbformat_minor": 2
}
