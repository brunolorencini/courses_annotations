{
 "cells": [
  {
   "cell_type": "code",
   "execution_count": 1,
   "metadata": {},
   "outputs": [
    {
     "name": "stdout",
     "output_type": "stream",
     "text": [
      "Lendo o documento...\n",
      "Ok!\n"
     ]
    }
   ],
   "source": [
    "# Começando com os imports\n",
    "import csv\n",
    "import matplotlib.pyplot as plt\n",
    "\n",
    "# Vamos ler os dados como uma lista\n",
    "print(\"Lendo o documento...\")\n",
    "with open(\"chicago.csv\", \"r\") as file_read:\n",
    "    reader = csv.reader(file_read)\n",
    "    data_list = list(reader)\n",
    "print(\"Ok!\")"
   ]
  },
  {
   "cell_type": "code",
   "execution_count": 2,
   "metadata": {},
   "outputs": [
    {
     "name": "stdout",
     "output_type": "stream",
     "text": [
      "Número de linhas:\n",
      "1551506\n",
      "Linha 0: \n",
      "['Start Time', 'End Time', 'Trip Duration', 'Start Station', 'End Station', 'User Type', 'Gender', 'Birth Year']\n",
      "Linha 1: \n",
      "['2017-01-01 00:00:36', '2017-01-01 00:06:32', '356', 'Canal St & Taylor St', 'Canal St & Monroe St (*)', 'Customer', '', '']\n",
      "Aperte Enter para continuar...\n",
      "\n",
      "\n",
      "TAREFA 1: Imprimindo as primeiras 20 amostras\n",
      "Linha: 0\n",
      "['Start Time', 'End Time', 'Trip Duration', 'Start Station', 'End Station', 'User Type', 'Gender', 'Birth Year']\n",
      "Linha: 1\n",
      "['2017-01-01 00:00:36', '2017-01-01 00:06:32', '356', 'Canal St & Taylor St', 'Canal St & Monroe St (*)', 'Customer', '', '']\n",
      "Linha: 2\n",
      "['2017-01-01 00:02:54', '2017-01-01 00:08:21', '327', 'Larrabee St & Menomonee St', 'Sheffield Ave & Kingsbury St', 'Subscriber', 'Male', '1984.0']\n",
      "Linha: 3\n",
      "['2017-01-01 00:06:06', '2017-01-01 00:18:31', '745', 'Orleans St & Chestnut St (NEXT Apts)', 'Ashland Ave & Blackhawk St', 'Subscriber', 'Male', '1985.0']\n",
      "Linha: 4\n",
      "['2017-01-01 00:07:28', '2017-01-01 00:12:51', '323', 'Franklin St & Monroe St', 'Clinton St & Tilden St', 'Subscriber', 'Male', '1990.0']\n",
      "Linha: 5\n",
      "['2017-01-01 00:07:57', '2017-01-01 00:20:53', '776', 'Broadway & Barry Ave', 'Sedgwick St & North Ave', 'Subscriber', 'Male', '1990.0']\n",
      "Linha: 6\n",
      "['2017-01-01 00:10:44', '2017-01-01 00:21:27', '643', 'State St & Kinzie St', 'Wells St & Polk St', 'Subscriber', 'Male', '1970.0']\n",
      "Linha: 7\n",
      "['2017-01-01 00:11:34', '2017-01-01 00:23:47', '733', 'Wabash Ave & Wacker Pl', 'Clinton St & Tilden St', 'Subscriber', 'Male', '1986.0']\n",
      "Linha: 8\n",
      "['2017-01-01 00:14:57', '2017-01-01 00:26:22', '685', 'Daley Center Plaza', 'Canal St & Monroe St (*)', 'Customer', '', '']\n",
      "Linha: 9\n",
      "['2017-01-01 00:15:03', '2017-01-01 00:26:28', '685', 'Daley Center Plaza', 'Canal St & Monroe St (*)', 'Customer', '', '']\n",
      "Linha: 10\n",
      "['2017-01-01 00:17:01', '2017-01-01 00:29:49', '768', 'Dayton St & North Ave', 'Ogden Ave & Chicago Ave', 'Customer', '', '']\n",
      "Linha: 11\n",
      "['2017-01-01 00:17:13', '2017-01-01 11:03:34', '38781', 'Wilton Ave & Diversey Pkwy', 'Halsted St & Wrightwood Ave', 'Subscriber', 'Female', '1988.0']\n",
      "Linha: 12\n",
      "['2017-01-01 00:18:28', '2017-01-01 00:31:05', '757', 'Canal St & Madison St', 'LaSalle St & Illinois St', 'Customer', '', '']\n",
      "Linha: 13\n",
      "['2017-01-01 00:18:50', '2017-01-01 00:21:47', '177', 'Theater on the Lake', 'Lakeview Ave & Fullerton Pkwy', 'Subscriber', 'Male', '1991.0']\n",
      "Linha: 14\n",
      "['2017-01-01 00:23:41', '2017-01-01 00:29:13', '332', 'Halsted St & Maxwell St', 'Halsted St & 18th St', 'Subscriber', 'Male', '1984.0']\n",
      "Linha: 15\n",
      "['2017-01-01 00:25:47', '2017-01-01 00:39:53', '846', 'Ravenswood Ave & Lawrence Ave', 'Clarendon Ave & Gordon Ter', 'Subscriber', 'Female', '1987.0']\n",
      "Linha: 16\n",
      "['2017-01-01 00:25:47', '2017-01-01 00:43:23', '1056', 'Clark St & Congress Pkwy', 'Wolcott Ave & Polk St', 'Subscriber', 'Male', '1984.0']\n",
      "Linha: 17\n",
      "['2017-01-01 00:26:21', '2017-01-01 00:39:40', '799', 'Ravenswood Ave & Lawrence Ave', 'Clarendon Ave & Gordon Ter', 'Subscriber', 'Male', '1987.0']\n",
      "Linha: 18\n",
      "['2017-01-01 00:27:21', '2017-01-01 00:42:59', '938', 'Millennium Park', 'Michigan Ave & 18th St', 'Subscriber', 'Male', '1991.0']\n",
      "Linha: 19\n",
      "['2017-01-01 00:27:28', '2017-01-01 00:42:44', '916', 'Millennium Park', 'Michigan Ave & 18th St', 'Subscriber', 'Female', '1990.0']\n"
     ]
    }
   ],
   "source": [
    "# Vamos verificar quantas linhas nós temos\n",
    "print(\"Número de linhas:\")\n",
    "print(len(data_list))\n",
    "\n",
    "# Imprimindo a primeira linha de data_list para verificar se funcionou.\n",
    "print(\"Linha 0: \")\n",
    "print(data_list[0])\n",
    "# É o cabeçalho dos dados, para que possamos identificar as colunas.\n",
    "\n",
    "# Imprimindo a segunda linha de data_list, ela deveria conter alguns dados\n",
    "print(\"Linha 1: \")\n",
    "print(data_list[1])\n",
    "\n",
    "input(\"Aperte Enter para continuar...\")\n",
    "# TAREFA 1\n",
    "# TODO: Imprima as primeiras 20 linhas usando um loop para identificar os dados.\n",
    "print(\"\\n\\nTAREFA 1: Imprimindo as primeiras 20 amostras\")\n",
    "contador = -1\n",
    "for i in data_list[:20]:                       # Percorre as 20 primeiras linhas de data_list.\n",
    "    contador += 1                              # Contador vai incrementando + 1 adicionando valor a legenda.\n",
    "    print(\"Linha: {}\\n{}\".format(contador, i)) # Print legenda linha + número linha, e os dados das linhas."
   ]
  },
  {
   "cell_type": "code",
   "execution_count": 4,
   "metadata": {},
   "outputs": [
    {
     "name": "stdout",
     "output_type": "stream",
     "text": [
      "Aperte Enter para continuar...\n"
     ]
    },
    {
     "data": {
      "text/plain": [
       "''"
      ]
     },
     "execution_count": 4,
     "metadata": {},
     "output_type": "execute_result"
    }
   ],
   "source": [
    "# TAREFA 1\n",
    "# Concluida código exibe, linha 0 até 19, as primeiras 20 linhasself.\n",
    "# Vamos mudar o data_list para remover o cabeçalho dele.\n",
    "data_list = data_list[1:]\n",
    "# Nós podemos acessar as features pelo índice\n",
    "# Por exemplo: sample[6] para imprimir gênero, ou sample[-2]\n",
    "input(\"Aperte Enter para continuar...\")"
   ]
  },
  {
   "cell_type": "code",
   "execution_count": 5,
   "metadata": {},
   "outputs": [
    {
     "name": "stdout",
     "output_type": "stream",
     "text": [
      "\n",
      "TAREFA 2: Imprimindo o gênero das primeiras 20 amostras\n",
      "Genero: Male\n",
      "Genero: Male\n",
      "Genero: Male\n",
      "Genero: Male\n",
      "Genero: Male\n",
      "Genero: Male\n",
      "Genero: \n",
      "Genero: \n",
      "Genero: \n",
      "Genero: Female\n",
      "Genero: \n",
      "Genero: Male\n",
      "Genero: Male\n",
      "Genero: Female\n",
      "Genero: Male\n",
      "Genero: Male\n",
      "Genero: Male\n",
      "Genero: Female\n",
      "Genero: Male\n",
      "Genero: Female\n"
     ]
    }
   ],
   "source": [
    "# TAREFA 2\n",
    "# TODO: Imprima o `gênero` das primeiras 20 linhas\n",
    "print(\"\\nTAREFA 2: Imprimindo o gênero das primeiras 20 amostras\")\n",
    "sample = data_list[:20]                     #Le as primeiras 20 linhas e coloca na variavel sample.\n",
    "for gender in sample:                       #Faz a leitura de gneero nas linhas\n",
    "    print(\"Genero: {}\".format(gender[-2]))  #Ele printa a coluna genero indicando pelo indice em cada linha.\n",
    "\n",
    "# Ótimo! Nós podemos pegar as linhas(samples) iterando com um for, e as colunas(features) por índices.\n",
    "# Mas ainda é difícil pegar uma coluna em uma lista. Exemplo: Lista com todos os gêneros"
   ]
  },
  {
   "cell_type": "code",
   "execution_count": 6,
   "metadata": {},
   "outputs": [
    {
     "name": "stdout",
     "output_type": "stream",
     "text": [
      "\n",
      "TAREFA 3: Imprimindo a lista de gêneros das primeiras 20 amostras\n",
      "['Male', 'Male', 'Male', 'Male', 'Male', 'Male', '', '', '', 'Female', '', 'Male', 'Male', 'Female', 'Male', 'Male', 'Male', 'Female', 'Male', 'Female']\n"
     ]
    },
    {
     "ename": "AssertionError",
     "evalue": "TAREFA 3: Tamanho incorreto retornado.",
     "output_type": "error",
     "traceback": [
      "\u001b[0;31m---------------------------------------------------------------------------\u001b[0m",
      "\u001b[0;31mAssertionError\u001b[0m                            Traceback (most recent call last)",
      "\u001b[0;32m<ipython-input-6-57507e406c36>\u001b[0m in \u001b[0;36m<module>\u001b[0;34m()\u001b[0m\n\u001b[1;32m     22\u001b[0m \u001b[0;31m# ------------ NÃO MUDE NENHUM CÓDIGO AQUI ------------\u001b[0m\u001b[0;34m\u001b[0m\u001b[0;34m\u001b[0m\u001b[0m\n\u001b[1;32m     23\u001b[0m \u001b[0;32massert\u001b[0m \u001b[0mtype\u001b[0m\u001b[0;34m(\u001b[0m\u001b[0mcolumn_to_list\u001b[0m\u001b[0;34m(\u001b[0m\u001b[0mdata_list\u001b[0m\u001b[0;34m,\u001b[0m \u001b[0;34m-\u001b[0m\u001b[0;36m2\u001b[0m\u001b[0;34m)\u001b[0m\u001b[0;34m)\u001b[0m \u001b[0;32mis\u001b[0m \u001b[0mlist\u001b[0m\u001b[0;34m,\u001b[0m \u001b[0;34m\"TAREFA 3: Tipo incorreto retornado. Deveria ser uma lista.\"\u001b[0m\u001b[0;34m\u001b[0m\u001b[0m\n\u001b[0;32m---> 24\u001b[0;31m \u001b[0;32massert\u001b[0m \u001b[0mlen\u001b[0m\u001b[0;34m(\u001b[0m\u001b[0mcolumn_to_list\u001b[0m\u001b[0;34m(\u001b[0m\u001b[0mdata_list\u001b[0m\u001b[0;34m,\u001b[0m \u001b[0;34m-\u001b[0m\u001b[0;36m2\u001b[0m\u001b[0;34m)\u001b[0m\u001b[0;34m)\u001b[0m \u001b[0;34m==\u001b[0m \u001b[0;36m1551505\u001b[0m\u001b[0;34m,\u001b[0m \u001b[0;34m\"TAREFA 3: Tamanho incorreto retornado.\"\u001b[0m\u001b[0;34m\u001b[0m\u001b[0m\n\u001b[0m\u001b[1;32m     25\u001b[0m \u001b[0;32massert\u001b[0m \u001b[0mcolumn_to_list\u001b[0m\u001b[0;34m(\u001b[0m\u001b[0mdata_list\u001b[0m\u001b[0;34m,\u001b[0m \u001b[0;34m-\u001b[0m\u001b[0;36m2\u001b[0m\u001b[0;34m)\u001b[0m\u001b[0;34m[\u001b[0m\u001b[0;36m0\u001b[0m\u001b[0;34m]\u001b[0m \u001b[0;34m==\u001b[0m \u001b[0;34m\"\"\u001b[0m \u001b[0;32mand\u001b[0m \u001b[0mcolumn_to_list\u001b[0m\u001b[0;34m(\u001b[0m\u001b[0mdata_list\u001b[0m\u001b[0;34m,\u001b[0m \u001b[0;34m-\u001b[0m\u001b[0;36m2\u001b[0m\u001b[0;34m)\u001b[0m\u001b[0;34m[\u001b[0m\u001b[0;36m1\u001b[0m\u001b[0;34m]\u001b[0m \u001b[0;34m==\u001b[0m \u001b[0;34m\"Male\"\u001b[0m\u001b[0;34m,\u001b[0m \u001b[0;34m\"TAREFA 3: A lista não coincide.\"\u001b[0m\u001b[0;34m\u001b[0m\u001b[0m\n\u001b[1;32m     26\u001b[0m \u001b[0;31m# -----------------------------------------------------\u001b[0m\u001b[0;34m\u001b[0m\u001b[0;34m\u001b[0m\u001b[0m\n",
      "\u001b[0;31mAssertionError\u001b[0m: TAREFA 3: Tamanho incorreto retornado."
     ]
    }
   ],
   "source": [
    "# TAREFA 3\n",
    "# TODO: Crie uma função para adicionar as colunas(features) de uma lista em outra lista, na mesma ordem\n",
    "def column_to_list(data_list, index):\n",
    "    \"\"\"Função realiza a leitura dos dados de cada coluna e adiciona a uma lista.\n",
    "    Argumentos:\n",
    "    Na lista data_lista: recebendo a lista entrada.\n",
    "    index: refere-se ao indice coluna que será lida.\n",
    "    Retornando:\n",
    "    Lista com valores de uma coluna referencia sendo a  mesma ordem que se encontra na lista inicial.\n",
    "    \"\"\"\n",
    "    column_list = []\n",
    "    # Dica: Você pode usar um for para iterar sobre as amostras, pegar a feature pelo seu índice, e dar append para uma lista\n",
    "    for i in data_list:\n",
    "        column_list.append(i[index])\n",
    "    return column_list\n",
    "\n",
    "\n",
    "# Vamos checar com os gêneros se isso está funcionando (apenas para os primeiros 20)\n",
    "print(\"\\nTAREFA 3: Imprimindo a lista de gêneros das primeiras 20 amostras\")\n",
    "print(column_to_list(data_list, -2)[:20])\n",
    "\n",
    "# ------------ NÃO MUDE NENHUM CÓDIGO AQUI ------------\n",
    "assert type(column_to_list(data_list, -2)) is list, \"TAREFA 3: Tipo incorreto retornado. Deveria ser uma lista.\"\n",
    "assert len(column_to_list(data_list, -2)) == 1551505, \"TAREFA 3: Tamanho incorreto retornado.\"\n",
    "assert column_to_list(data_list, -2)[0] == \"\" and column_to_list(data_list, -2)[1] == \"Male\", \"TAREFA 3: A lista não coincide.\"\n",
    "# -----------------------------------------------------\n",
    "\n",
    "input(\"Aperte Enter para continuar...\")"
   ]
  },
  {
   "cell_type": "code",
   "execution_count": 7,
   "metadata": {},
   "outputs": [
    {
     "name": "stdout",
     "output_type": "stream",
     "text": [
      "\n",
      "TAREFA 4: Imprimindo quantos masculinos e femininos nós encontramos\n",
      "Masculinos:  935854 \n",
      "Femininos:  298784\n",
      "Aperte Enter para continuar...\n"
     ]
    },
    {
     "data": {
      "text/plain": [
       "''"
      ]
     },
     "execution_count": 7,
     "metadata": {},
     "output_type": "execute_result"
    }
   ],
   "source": [
    "# Agora sabemos como acessar as features, vamos contar quantos Male (Masculinos) e Female (Femininos) o dataset tem\n",
    "# TAREFA 4\n",
    "# TODO: Conte cada gênero. Você não deveria usar uma função parTODO isso.\n",
    "male = 0\n",
    "female = 0\n",
    "\n",
    "for gender in data_list:           # Para diferenciar genero dentro de data_lista.\n",
    "    if (gender[-2] == 'Male'):     # Verificamos na coluna de generos se o genero é masculino ou feminino.\n",
    "        male += 1                  # Adicionaremos + 1 ao contator de genero referente ao genero incrementado\n",
    "    elif(gender[-2] == 'Female'):  # Verifica na coluna de generos se o genero é masculino ou feminino.\n",
    "        female += 1                # Adicionaremos + 1 ao contator de genero referente ao genero incrementado.\n",
    "\n",
    "\n",
    "# Verificando o resultado\n",
    "print(\"\\nTAREFA 4: Imprimindo quantos masculinos e femininos nós encontramos\")\n",
    "print(\"Masculinos: \", male, \"\\nFemininos: \", female)\n",
    "\n",
    "# ------------ NÃO MUDE NENHUM CÓDIGO AQUI ------------\n",
    "assert male == 935854 and female == 298784, \"TAREFA 4: A conta não bate.\"\n",
    "# -----------------------------------------------------\n",
    "\n",
    "input(\"Aperte Enter para continuar...\")\n",
    "# Por que nós não criamos uma função parTODO isso?\n"
   ]
  },
  {
   "cell_type": "code",
   "execution_count": 8,
   "metadata": {},
   "outputs": [
    {
     "name": "stdout",
     "output_type": "stream",
     "text": [
      "\n",
      "TAREFA 5: Imprimindo o resultado de count_gender\n",
      "[935854, 298784]\n",
      "Aperte Enter para continuar...\n"
     ]
    },
    {
     "data": {
      "text/plain": [
       "''"
      ]
     },
     "execution_count": 8,
     "metadata": {},
     "output_type": "execute_result"
    }
   ],
   "source": [
    "# TAREFA 5\n",
    "# TODO: Crie uma função para contar os gêneros. Retorne uma lista.\n",
    "# Isso deveria retornar uma lista com [count_male, count_female] (exemplo: [10, 15] significa 10 Masculinos, 15 Femininos)\n",
    "def count_gender(data_list):\n",
    "    \"\"\"Função realizará  contagem dos generos e irá adicionar a uma lista para cada genero.\n",
    "    Argumentos:\n",
    "    lista data_lista receberá a lista de entrada.\n",
    "    Retornando:\n",
    "    retornará uma lista com [count_male, count_female].\n",
    "    \"\"\"\n",
    "    male = 0\n",
    "    female = 0\n",
    "    for gender in data_list:\n",
    "        if (gender[-2] == 'Male'):\n",
    "            male += 1\n",
    "        elif(gender[-2] == 'Female'):\n",
    "            female += 1\n",
    "    return [male, female]\n",
    "\n",
    "print(\"\\nTAREFA 5: Imprimindo o resultado de count_gender\")\n",
    "print(count_gender(data_list))\n",
    "\n",
    "# ------------ NÃO MUDE NENHUM CÓDIGO AQUI ------------\n",
    "assert type(count_gender(data_list)) is list, \"TAREFA 5: Tipo incorreto retornado. Deveria retornar uma lista.\"\n",
    "assert len(count_gender(data_list)) == 2, \"TAREFA 5: Tamanho incorreto retornado.\"\n",
    "assert count_gender(data_list)[0] == 935854 and count_gender(data_list)[1] == 298784, \"TAREFA 5: Resultado incorreto no retorno!\"\n",
    "# -----------------------------------------------------\n",
    "\n",
    "input(\"Aperte Enter para continuar...\")"
   ]
  },
  {
   "cell_type": "code",
   "execution_count": 12,
   "metadata": {},
   "outputs": [
    {
     "name": "stdout",
     "output_type": "stream",
     "text": [
      "\n",
      "TAREFA 6: Qual é o gênero mais popular na lista?\n",
      "O gênero mais popular na lista é:  Masculino\n"
     ]
    },
    {
     "ename": "AssertionError",
     "evalue": "TAREFA 6: Resultado de retorno incorreto!",
     "output_type": "error",
     "traceback": [
      "\u001b[0;31m---------------------------------------------------------------------------\u001b[0m",
      "\u001b[0;31mAssertionError\u001b[0m                            Traceback (most recent call last)",
      "\u001b[0;32m<ipython-input-12-23e0273813bc>\u001b[0m in \u001b[0;36m<module>\u001b[0;34m()\u001b[0m\n\u001b[1;32m     29\u001b[0m \u001b[0;31m# ------------ NÃO MUDE NENHUM CÓDIGO AQUI ------------\u001b[0m\u001b[0;34m\u001b[0m\u001b[0;34m\u001b[0m\u001b[0m\n\u001b[1;32m     30\u001b[0m \u001b[0;32massert\u001b[0m \u001b[0mtype\u001b[0m\u001b[0;34m(\u001b[0m\u001b[0mmost_popular_gender\u001b[0m\u001b[0;34m(\u001b[0m\u001b[0mdata_list\u001b[0m\u001b[0;34m)\u001b[0m\u001b[0;34m)\u001b[0m \u001b[0;32mis\u001b[0m \u001b[0mstr\u001b[0m\u001b[0;34m,\u001b[0m \u001b[0;34m\"TAREFA 6: Tipo incorreto no retorno. Deveria retornar uma string.\"\u001b[0m\u001b[0;34m\u001b[0m\u001b[0m\n\u001b[0;32m---> 31\u001b[0;31m \u001b[0;32massert\u001b[0m \u001b[0mmost_popular_gender\u001b[0m\u001b[0;34m(\u001b[0m\u001b[0mdata_list\u001b[0m\u001b[0;34m)\u001b[0m \u001b[0;34m==\u001b[0m \u001b[0;34m\"Male\"\u001b[0m\u001b[0;34m,\u001b[0m \u001b[0;34m\"TAREFA 6: Resultado de retorno incorreto!\"\u001b[0m\u001b[0;34m\u001b[0m\u001b[0m\n\u001b[0m\u001b[1;32m     32\u001b[0m \u001b[0;31m# -----------------------------------------------------\u001b[0m\u001b[0;34m\u001b[0m\u001b[0;34m\u001b[0m\u001b[0m\n\u001b[1;32m     33\u001b[0m \u001b[0;34m\u001b[0m\u001b[0m\n",
      "\u001b[0;31mAssertionError\u001b[0m: TAREFA 6: Resultado de retorno incorreto!"
     ]
    }
   ],
   "source": [
    "# Agora que nós podemos contar os usuários, qual gênero é mais prevalente?\n",
    "# TAREFA 6\n",
    "# TODO: Crie uma função que pegue o gênero mais popular, e retorne este gênero como uma string.\n",
    "# Esperamos ver \"Masculino\", \"Feminino\", ou \"Igual\" como resposta.\n",
    "def most_popular_gender(data_list):\n",
    "    \"\"\"Esta função realizará contagem dos generos, verificando a maiorrecorrencia entre eles.\n",
    "    Argumentos:\n",
    "    data_list: receberá o argumento que é a lista entrada dos dados.\n",
    "    Retornará:\n",
    "    retornar answer: responderá qual o genero com maior recorrencia.\n",
    "    \"\"\"\n",
    "    answer = \"\"\n",
    "    male = count_gender(data_list)[0]\n",
    "    female = count_gender(data_list)[1]\n",
    "    if male > female:\n",
    "        answer = 'Masculino'\n",
    "\n",
    "    elif female > male:\n",
    "        answer = 'Feminino'\n",
    "\n",
    "    else:\n",
    "        answer = 'Iguais'\n",
    "    return answer\n",
    "\n",
    "\n",
    "print(\"\\nTAREFA 6: Qual é o gênero mais popular na lista?\")\n",
    "print(\"O gênero mais popular na lista é: \", most_popular_gender(data_list))\n",
    "\n",
    "# ------------ NÃO MUDE NENHUM CÓDIGO AQUI ------------\n",
    "assert type(most_popular_gender(data_list)) is str, \"TAREFA 6: Tipo incorreto no retorno. Deveria retornar uma string.\"\n",
    "assert most_popular_gender(data_list) == \"Male\", \"TAREFA 6: Resultado de retorno incorreto!\"\n",
    "# -----------------------------------------------------\n",
    "\n",
    "# Se tudo está rodando como esperado, verifique este gráfico!\n",
    "gender_list = column_to_list(data_list, -2)\n",
    "types = [\"Male\", \"Female\"]\n",
    "quantity = count_gender(data_list)\n",
    "y_pos = list(range(len(types)))\n",
    "plt.bar(y_pos, quantity)\n",
    "plt.ylabel('Quantidade')\n",
    "plt.xlabel('Gênero')\n",
    "plt.xticks(y_pos, types)\n",
    "plt.title('Quantidade por Gênero')\n",
    "plt.show(block=True)\n",
    "\n",
    "input(\"Aperte Enter para continuar...\")"
   ]
  },
  {
   "cell_type": "code",
   "execution_count": 14,
   "metadata": {},
   "outputs": [
    {
     "name": "stdout",
     "output_type": "stream",
     "text": [
      "\n",
      "TAREFA 7: Verifique o gráfico!\n"
     ]
    },
    {
     "data": {
      "image/png": "[encoded data removed]",
      "text/plain": [
       "<Figure size 432x288 with 1 Axes>"
      ]
     },
     "metadata": {},
     "output_type": "display_data"
    },
    {
     "name": "stdout",
     "output_type": "stream",
     "text": [
      "Aperte Enter para continuar...\n"
     ]
    },
    {
     "data": {
      "text/plain": [
       "''"
      ]
     },
     "execution_count": 14,
     "metadata": {},
     "output_type": "execute_result"
    }
   ],
   "source": [
    "# TAREFA 7\n",
    "# TODO: Crie um gráfico similar para user_types. Tenha certeza que a legenda está correta.\n",
    "print(\"\\nTAREFA 7: Verifique o gráfico!\")\n",
    "\n",
    "def count_user(data_list):\n",
    "    \"\"\"Função Realizará  contagem de tipos dos usuários e adicionará uma lista para cada tipo distinto.\n",
    "    Argumentos:\n",
    "    data_list: lista de entrada.\n",
    "    Retorna:\n",
    "    [subscriber, customer]: retornando uma lista com os tipos dos usuários.\n",
    "    \"\"\"\n",
    "    subscriber = 0\n",
    "    customer = 0\n",
    "    for user in data_list:\n",
    "        if (user[-3] == 'Subscriber'):\n",
    "            subscriber += 1\n",
    "        elif(user[-3] == 'Customer'):\n",
    "            customer += 1\n",
    "    return [subscriber, customer]\n",
    "\n",
    "\n",
    "# Se tudo está rodando como esperado, verifique este gráfico!\n",
    "user_list = column_to_list(data_list, -3)\n",
    "types = [\"Subscriber\", \"Customer\"]\n",
    "quantity = count_user(data_list)\n",
    "y_pos = list(range(len(types)))\n",
    "plt.bar(y_pos, quantity)\n",
    "plt.ylabel('Quantidade')\n",
    "plt.xlabel('Tipo de Usuário')\n",
    "plt.xticks(y_pos, types)\n",
    "plt.title('Quantidade por Tipo de Usuário')\n",
    "plt.show(block=True)\n",
    "\n",
    "\n",
    "input(\"Aperte Enter para continuar...\")"
   ]
  },
  {
   "cell_type": "code",
   "execution_count": 15,
   "metadata": {},
   "outputs": [
    {
     "name": "stdout",
     "output_type": "stream",
     "text": [
      "\n",
      "TAREFA 8: Por que a condição a seguir é Falsa?\n",
      "male + female == len(data_list): False\n",
      "resposta: Escreva sua resposta aqui.\n"
     ]
    },
    {
     "ename": "AssertionError",
     "evalue": "TAREFA 8: Escreva sua própria resposta!",
     "output_type": "error",
     "traceback": [
      "\u001b[0;31m---------------------------------------------------------------------------\u001b[0m",
      "\u001b[0;31mAssertionError\u001b[0m                            Traceback (most recent call last)",
      "\u001b[0;32m<ipython-input-15-58db52d05de1>\u001b[0m in \u001b[0;36m<module>\u001b[0;34m()\u001b[0m\n\u001b[1;32m      8\u001b[0m \u001b[0;34m\u001b[0m\u001b[0m\n\u001b[1;32m      9\u001b[0m \u001b[0;31m# ------------ NÃO MUDE NENHUM CÓDIGO AQUI ------------\u001b[0m\u001b[0;34m\u001b[0m\u001b[0;34m\u001b[0m\u001b[0m\n\u001b[0;32m---> 10\u001b[0;31m \u001b[0;32massert\u001b[0m \u001b[0manswer\u001b[0m \u001b[0;34m!=\u001b[0m \u001b[0;34m\"Escreva sua resposta aqui.\"\u001b[0m\u001b[0;34m,\u001b[0m \u001b[0;34m\"TAREFA 8: Escreva sua própria resposta!\"\u001b[0m\u001b[0;34m\u001b[0m\u001b[0m\n\u001b[0m\u001b[1;32m     11\u001b[0m \u001b[0;31m# -----------------------------------------------------\u001b[0m\u001b[0;34m\u001b[0m\u001b[0;34m\u001b[0m\u001b[0m\n\u001b[1;32m     12\u001b[0m \u001b[0;34m\u001b[0m\u001b[0m\n",
      "\u001b[0;31mAssertionError\u001b[0m: TAREFA 8: Escreva sua própria resposta!"
     ]
    }
   ],
   "source": [
    "# TAREFA 8\n",
    "# TODO: Responda a seguinte questão\n",
    "male, female = count_gender(data_list)\n",
    "print(\"\\nTAREFA 8: Por que a condição a seguir é Falsa?\")\n",
    "print(\"male + female == len(data_list):\", male + female == len(data_list))\n",
    "answer = \"Escreva sua resposta aqui.\"\n",
    "print(\"resposta:\", answer)\n",
    "\n",
    "# ------------ NÃO MUDE NENHUM CÓDIGO AQUI ------------\n",
    "assert answer != \"Escreva sua resposta aqui.\", \"TAREFA 8: Escreva sua própria resposta!\"\n",
    "# -----------------------------------------------------\n",
    "\n",
    "input(\"Aperte Enter para continuar...\")\n"
   ]
  },
  {
   "cell_type": "code",
   "execution_count": 17,
   "metadata": {},
   "outputs": [
    {
     "ename": "NameError",
     "evalue": "name 'trip_duration_list' is not defined",
     "output_type": "error",
     "traceback": [
      "\u001b[0;31m---------------------------------------------------------------------------\u001b[0m",
      "\u001b[0;31mNameError\u001b[0m                                 Traceback (most recent call last)",
      "\u001b[0;32m<ipython-input-17-4dd5bbc92a0c>\u001b[0m in \u001b[0;36m<module>\u001b[0;34m()\u001b[0m\n\u001b[1;32m     11\u001b[0m \u001b[0mtrip_duration_list_int\u001b[0m \u001b[0;34m=\u001b[0m \u001b[0;34m[\u001b[0m\u001b[0;34m]\u001b[0m                   \u001b[0;31m# Lista vazia, receberá a lista trip_duration_list convertida para int.\u001b[0m\u001b[0;34m\u001b[0m\u001b[0m\n\u001b[1;32m     12\u001b[0m \u001b[0;34m\u001b[0m\u001b[0m\n\u001b[0;32m---> 13\u001b[0;31m \u001b[0;32mfor\u001b[0m \u001b[0mindex\u001b[0m \u001b[0;32min\u001b[0m \u001b[0mtrip_duration_list\u001b[0m\u001b[0;34m:\u001b[0m              \u001b[0;31m# Loop for que converte cada elemento str da lista trip_duration_list em elementos do tipo int.\u001b[0m\u001b[0;34m\u001b[0m\u001b[0m\n\u001b[0m\u001b[1;32m     14\u001b[0m     \u001b[0mtrip_duration_list_int\u001b[0m\u001b[0;34m.\u001b[0m\u001b[0mappend\u001b[0m\u001b[0;34m(\u001b[0m\u001b[0mint\u001b[0m\u001b[0;34m(\u001b[0m\u001b[0mindex\u001b[0m\u001b[0;34m)\u001b[0m\u001b[0;34m)\u001b[0m\u001b[0;34m\u001b[0m\u001b[0m\n\u001b[1;32m     15\u001b[0m \u001b[0;34m\u001b[0m\u001b[0m\n",
      "\u001b[0;31mNameError\u001b[0m: name 'trip_duration_list' is not defined"
     ]
    }
   ],
   "source": [
    "#Vamos trabalhar com trip_duration (duração da viagem) agora. Não conseguimos tirar alguns valores dele.\n",
    "# TAREFA 9\n",
    "# TODO: Ache a duração de viagem Mínima, Máxima, Média, e Mediana.\n",
    "# Você não deve usar funções prontas parTODO isso, como max() e min().\n",
    "perc_duration_lista = column_to_list(data_list, 2)\n",
    "min_trip = 0.\n",
    "max_trip = 0.\n",
    "mean_trip = 0.\n",
    "median_trip = 0.\n",
    "\n",
    "trip_duration_list_int = []                   # Lista vazia, receberá a lista trip_duration_list convertida para int.\n",
    "\n",
    "for index in trip_duration_list:              # Loop for que converte cada elemento str da lista trip_duration_list em elementos do tipo int.\n",
    "    trip_duration_list_int.append(int(index))\n",
    "\n",
    "trip_duration_list_sort = sorted(trip_duration_list_int) # Ordena a lista trip_duration_list_int.\n",
    "\n",
    "min_trip = trip_duration_list_sort[0]    # Cria lista ordenada com seu valor minimo é o seu primeiro elemento.\n",
    "max_trip = trip_duration_list_sort[-1]   # Com lista ordenada seu valor máximo é o seu elemento final.\n",
    "mean_trip = sum(trip_duration_list_sort)/len(trip_duration_list_sort) # Calculo da média.\n",
    "\n",
    "# Calcular mediana, elemento central da lista ordenada.\n",
    "length_of_list = len(trip_duration_list_sort)\n",
    "if length_of_list % 2 == 0:\n",
    "    median_trip = (trip_duration_list_sort[int((length_of_list/2)-1)] + trip_duration_list_sort[int((length_of_list/2))])/2\n",
    "else:\n",
    "    median_trip = trip_duration_list_sort[int(((length_of_list-1)/2))]\n",
    "\n",
    "print(\"\\nTAREFA 9: Imprimindo o mínimo, máximo, média, e mediana\")\n",
    "print(\"Min: \", min_trip, \"Max: \", max_trip, \"Média: \", mean_trip, \"Mediana: \", median_trip)\n",
    "\n",
    "# ------------ NÃO MUDE NENHUM CÓDIGO AQUI ------------\n",
    "assert round(min_trip) == 60, \"TAREFA 9: min_trip com resultado errado!\"\n",
    "assert round(max_trip) == 86338, \"TAREFA 9: max_trip com resultado errado!\"\n",
    "assert round(mean_trip) == 940, \"TAREFA 9: mean_trip com resultado errado!\"\n",
    "assert round(median_trip) == 670, \"TAREFA 9: median_trip com resultado errado!\"\n",
    "# -----------------------------------------------------\n",
    "\n",
    "input(\"Aperte Enter para continuar...\")"
   ]
  },
  {
   "cell_type": "code",
   "execution_count": 18,
   "metadata": {},
   "outputs": [
    {
     "name": "stdout",
     "output_type": "stream",
     "text": [
      "\n",
      "TAREFA 10: Imprimindo as start stations:\n",
      "582\n",
      "{'Cottage Grove Ave & Oakwood Blvd', 'Racine Ave & 61st St', 'Michigan Ave & Jackson Blvd', 'Ravenswood Ave & Balmoral Ave', 'Wells St & Evergreen Ave', 'Franklin St & Monroe St', 'Sheffield Ave & Kingsbury St', 'Halsted St & Wrightwood Ave', 'Artesian Ave & Hubbard St', 'Broadway & Sheridan Rd', 'Cottage Grove Ave & 71st St', 'Rush St & Superior St', 'Damen Ave & Charleston St', 'Southport Ave & Clybourn Ave', 'Ashland Ave & Augusta Blvd', 'Albany Ave & Bloomingdale Ave', 'Central Ave & Chicago Ave', 'Cuyler Ave & Augusta St', 'Lincoln Ave & Addison St', 'Kedzie Ave & Bryn Mawr Ave', 'Western Ave & Leland Ave', 'Laramie Ave & Kinzie St', 'Austin Blvd & Chicago Ave', 'Yates Blvd & 75th St', 'Damen Ave & Chicago Ave', 'California Ave & Fletcher St', 'Dearborn Pkwy & Delaware Pl', 'Dearborn St & Monroe St', 'Ogden Ave & Roosevelt Rd', 'Rush St & Hubbard St', 'Kedzie Ave & Foster Ave', 'Orleans St & Ohio St', 'Lincoln Ave & Belmont Ave', 'Central Park Ave & North Ave', 'Ashland Ave & Belle Plaine Ave', '900 W Harrison St', 'Halsted St & Diversey Pkwy', 'Southport Ave & Clark St', 'Kedzie Ave & Chicago Ave', 'Broadway & Cornelia Ave', 'Wells St & Walton St', 'Michigan Ave & 14th St', 'Wabash Ave & 87th St', 'Sheffield Ave & Wrightwood Ave', 'California Ave & Lake St', 'Campbell Ave & Fullerton Ave', 'Morgan Ave & 14th Pl', 'Field Museum', 'Clark St & Montrose Ave', 'Clifton Ave & Armitage Ave', 'Western Ave & 28th St', 'Racine Ave & Wrightwood Ave', 'Clybourn Ave & Division St', 'Fairfield Ave & Roosevelt Rd', 'Cornell Ave & Hyde Park Blvd', 'Desplaines St & Kinzie St', 'MLK Jr Dr & 63rd St', 'Marine Dr & Ainslie St', 'Clark St & Schreiber Ave', 'LaSalle St & Adams St', 'Albany Ave & 26th St', 'State St & Randolph St', 'Kingsbury St & Kinzie St', 'Clinton St & Lake St', 'Sheridan Rd & Montrose Ave', 'Maplewood Ave & Peterson Ave', 'State St & Pershing Rd', 'Wacker Dr & Washington St', 'Clifton Ave & Lawrence Ave', 'Calumet Ave & 18th St', 'Clark St & Lake St', 'Keystone Ave & Fullerton Ave', 'Wells St & Elm St', 'Kenton Ave & Madison St', 'Ashland Ave & Wellington Ave', 'Cottage Grove Ave & 51st St', 'Wells St & Huron St', 'St. Louis Ave & Balmoral Ave', 'Emerald Ave & 28th St', 'Clarendon Ave & Junior Ter', 'Wilton Ave & Diversey Pkwy', 'Wood St & Taylor St', 'Blue Island Ave & 18th St', 'Washtenaw Ave & Lawrence Ave', 'Canal St & Adams St', 'Western Ave & Lunt Ave', 'Millard Ave & 26th St', 'Ellis Ave & 58th St', 'Francisco Ave & Foster Ave', 'Buckingham Fountain', 'Damen Ave & Augusta Blvd', 'Halsted St & Archer Ave', 'Financial Pl & Congress Pkwy', 'Sedgwick St & North Ave', 'University Library (NU)', 'Spaulding Ave & Armitage Ave', 'Clark St & 9th St (AMLI)', 'Southport Ave & Irving Park Rd', 'State St & 79th St', 'Ashland Ave & 69th St', 'California Ave & 23rd Pl', 'Halsted St & Blackhawk St (*)', 'Greenview Ave & Jarvis Ave', 'Broadway & Ridge Ave', 'Laramie Ave & Gladys Ave', 'Broadway & Argyle St', 'Sheffield Ave & Willow St', 'Damen Ave & Leland Ave', 'Pulaski Rd & Madison St', 'Evans Ave & 75th St', 'Halsted St & 69th St', 'McCormick Place', 'Clark St & Columbia Ave', 'Lincoln Ave & Diversey Pkwy', 'MLK Jr Dr & 47th St', 'Marshfield Ave & Cortland St', 'Greenview Ave & Fullerton Ave', 'Sawyer Ave & Irving Park Rd', 'Pine Grove Ave & Waveland Ave', 'Budlong Woods Library', 'Cottage Grove Ave & 47th St', 'Western Ave & Monroe St', 'Southport Ave & Waveland Ave', 'Ashland Ave & Harrison St', 'Ashland Ave & 13th St', 'Kilbourn Ave & Irving Park Rd', 'Drake Ave & Fullerton Ave', 'Washtenaw Ave & 15th St (*)', 'Leavitt St & Archer Ave', 'Ellis Ave & 53rd St', 'Dearborn St & Erie St', 'Racine Ave & 15th St', 'Burnham Harbor', 'Larrabee St & Menomonee St', 'Wabash Ave & Adams St', 'Columbus Dr & Randolph St', 'Humboldt Blvd & Armitage Ave', 'Peoria St & Jackson Blvd', 'Field Blvd & South Water St', 'Lake Park Ave & 53rd St', 'Stave St & Armitage Ave', 'Ashland Ave & Blackhawk St', 'Dearborn St & Adams St', 'Canal St & Taylor St', 'Broadway & Granville Ave', 'Leavitt St & Lawrence Ave', 'Dorchester Ave & 63rd St', 'Central Park Ave & Ogden Ave', 'Pulaski Rd & Lake St', 'Ashland Ave & Garfield Blvd', 'Stony Island Ave & 82nd St', 'Ashland Ave & Grand Ave', 'Mies van der Rohe Way & Chestnut St', 'Milwaukee Ave & Grand Ave', 'Lake Park Ave & 47th St', 'Princeton Ave & 47th St', 'DuSable Museum', 'Racine Ave & 18th St', 'Halsted St & 35th St (*)', 'State St & Harrison St', 'Greenwood Ave & 79th St', 'Marshfield Ave & 44th St', 'Wells St & 19th St', 'Cottage Grove Ave & 63rd St', 'Shields Ave & 28th Pl', 'MLK Jr Dr & 29th St', 'Dodge Ave & Church St', 'Michigan Ave & 8th St', 'Racine Ave & Congress Pkwy', 'Laramie Ave & Madison St', 'Lincoln Ave & Roscoe St', 'St. Clair St & Erie St', 'Ashland Ave & Pershing Rd', 'Stetson Ave & South Water St', 'Kedzie Ave & Roosevelt Rd', 'Ashland Ave & 63rd St', 'Clark St & Chicago Ave', 'Cottage Grove Ave & 43rd St', 'Michigan Ave & 18th St', 'Ashland Ave & Division St', 'Logan Blvd & Elston Ave', 'Green St & Randolph St', 'Cicero Ave & Lake St', 'Canal St & Harrison St', 'Pulaski Rd & Congress Pkwy', 'Humphrey Ave & Ontario St', 'Leavitt St & Armitage Ave', 'Oak Park Ave & South Blvd', 'Drake Ave & Montrose Ave', 'Marion St & South Blvd', 'South Chicago Ave & 83rd St', 'Avondale Ave & Irving Park Rd', 'California Ave & North Ave', 'Winchester Ave & Elston Ave', 'Damen Ave & Pierce Ave', 'Morgan St & Pershing Rd', 'Campbell Ave & North Ave', 'Central Ave & Madison St', 'Hermitage Ave & Polk St', 'Ellis Ave & 55th St', 'Halsted St & Roosevelt Rd', 'Ashland Ave & 21st St', 'Wabash Ave & Cermak Rd', 'Clark St & Wrightwood Ave', 'Sacramento Blvd & Franklin Blvd', 'Throop St & 52nd St', 'Clark St & Leland Ave', 'Central St Metra', 'Knox Ave & Montrose Ave', 'Sheridan Rd & Irving Park Rd', 'Clinton St & Roosevelt Rd', 'Milwaukee Ave & Rockwell St', 'Franklin St & Chicago Ave', 'Ravenswood Ave & Berteau Ave', 'Larrabee St & Kingsbury St', 'Oakley Ave & Touhy Ave', 'Ashland Ave & Archer Ave', 'Damen Ave & 51st St', 'State St & Van Buren St', 'Lake Shore Dr & Diversey Pkwy', 'Ravenswood Ave & Lawrence Ave', 'Conservatory Dr & Lake St', 'Woodlawn Ave & 55th St', 'May St & Cullerton St', 'Central Ave & Harrison St', 'Clark St & Berwyn Ave', 'Saginaw Ave & Exchange Ave', 'Bennett Ave & 79th St', 'Eberhart Ave & 61st St', 'Ravenswood Ave & Montrose Ave (*)', 'Jeffery Blvd & 76th St', 'Calumet Ave & 35th St', 'LaSalle St & Washington St', 'Clinton St & Washington Blvd', 'Exchange Ave & 79th St', 'Racine Ave & Fullerton Ave', 'Clarendon Ave & Gordon Ter', 'Central St & Girard Ave', 'Broadway & Thorndale Ave', 'Desplaines St & Randolph St', 'Troy St & North Ave', 'Kedzie Ave & Milwaukee Ave', 'Halsted St & 37th St', 'Oakley Ave & Roscoe St', 'Halsted St & Dickens Ave', 'McClurg Ct & Illinois St', 'Racine Ave & Randolph St', 'Albany (Kedzie) Ave & Montrose Ave', 'Oakley Ave & Irving Park Rd', 'Stockton Dr & Wrightwood Ave', 'Stony Island Ave & 75th St', 'Warren Park East', 'Ritchie Ct & Banks St', 'Rockwell St & Eastwood Ave', 'Stony Island Ave & 64th St', 'Paulina St & Howard St', 'Ridge Blvd & Howard St', 'Calumet Ave & 21st St', 'Millennium Park', 'Loomis St & Jackson Blvd', 'Blackstone Ave & Hyde Park Blvd', 'Clinton St & Polk St (*)', 'Cicero Ave & Flournoy St', 'Museum of Science and Industry', 'May St & Taylor St', 'Kedzie Ave & Lake St', 'Ravenswood Ave & Irving Park Rd', 'Glenwood Ave & Touhy Ave', 'Sheffield Ave & Wellington Ave', 'Chicago Ave & Sheridan Rd', 'Warren Park West', 'State St & 29th St', 'Mies van der Rohe Way & Chicago Ave', 'Halsted St & 51st St', 'Clark St & Winnemac Ave', 'Fairbanks Ct & Grand Ave', 'Clarendon Ave & Leland Ave', 'California Ave & Montrose Ave', 'Shedd Aquarium', 'Benson Ave & Church St', 'East Ave & Garfield St', 'Ashland Ave & Wrightwood Ave', 'Loomis St & Archer Ave', 'Damen Ave & Grand Ave', 'Clinton St & Tilden St', 'Michigan Ave & Lake St', 'Franklin St & Jackson Blvd', 'Halsted St & 63rd St', 'Prairie Ave & 43rd St', 'Ada St & Washington Blvd', 'Clark St & Touhy Ave', 'Stony Island Ave & 67th St', 'South Shore Dr & 67th St', 'Ashland Ave & 50th St', 'Troy St & Elston Ave', 'Ashland Ave & Grace St', 'Harper Ave & 59th St', 'Aberdeen St & Jackson Blvd', 'Forest Ave & Lake St', 'Clark St & North Ave', 'Kostner Ave & Adams St', 'Bosworth Ave & Howard St', 'Kedzie Ave & Leland Ave', 'Sheridan Rd & Greenleaf Ave', 'Lombard Ave & Garfield St', 'Lake Park Ave & 56th St', 'Richmond St & Diversey Ave', 'Paulina St & Montrose Ave', 'Franklin St & Lake St', 'Lakefront Trail & Bryn Mawr Ave', 'Lake Shore Dr & Belmont Ave', 'Southport Ave & Roscoe St', 'Talman Ave & Addison St', 'Avers Ave & Belmont Ave', 'LaSalle St & Jackson Blvd', 'Daley Center Plaza', 'Paulina St & 18th St', 'Wolcott Ave & Polk St', 'Lake Shore Dr & Wellington Ave', 'Vernon Ave & 79th St', 'Halsted St & 56th St', 'Milwaukee Ave & Cuyler Ave', 'Commercial Ave & 83rd St', 'Lincoln Ave & Leavitt St', 'Orleans St & Chestnut St (NEXT Apts)', 'Racine Ave & Belmont Ave', 'Monticello Ave & Irving Park Rd', 'Wisconsin Ave & Madison St', 'Racine Ave & 13th St', 'Sheffield Ave & Webster Ave', 'Princeton Ave & Garfield Blvd', 'Morgan St & Polk St', 'Elmwood Ave & Austin St', 'Elston Ave & Wabansia Ave', 'California Ave & Byron St', 'Western Ave & Howard St', 'Eastlake Ter & Rogers Ave', 'Drake Ave & Addison St', 'Broadway & Barry Ave', 'California Ave & 21st St', 'Kosciuszko Park', 'Sedgwick St & Huron St', 'Clark St & Armitage Ave', 'Broadway & Waveland Ave', 'Clark St & Wellington Ave', 'Forest Ave & Chicago Ave', 'Loomis St & Lexington St', 'Jeffery Blvd & 67th St', 'Kilbourn Ave & Milwaukee Ave', 'Clinton St & Jackson Blvd', 'Racine Ave & 65th St', 'Wells St & Concord Ln', 'McClurg Ct & Erie St', 'Phillips Ave & 79th St', 'Spaulding Ave & Division St', 'Halsted St & 59th St', 'Wood St & Division St', 'California Ave & Division St', 'Kedzie Ave & 21st St', 'State St & 35th St', 'Wentworth Ave & 63rd St', 'Clinton St & Madison St', 'Seeley Ave & Roscoe St', 'Sangamon St & Washington Blvd (*)', 'Bissell St & Armitage Ave', 'Carpenter St & Huron St', 'Orleans St & Elm St (*)', 'Michigan Ave & Pearson St', 'Western Ave & Granville Ave', 'Halsted St & 21st St', 'Ridgeland Ave & Lake St', 'Indiana Ave & 31st St', 'Kedzie Ave & 24th St', 'East Ave & Madison St', 'Emerald Ave & 31st St', 'Eckhart Park', 'California Ave & Milwaukee Ave', 'Marshfield Ave & 59th St', 'Wabash Ave & 83rd St', 'Morgan St & 31st St', 'Ashland Ave & 66th St', 'Western Ave & Division St', 'Lincoln Ave & Fullerton Ave', 'Orleans St & Merchandise Mart Plaza', 'Wabash Ave & Grand Ave', 'Halsted St & 47th Pl', 'Clark St & Elm St', 'State St & Kinzie St', 'Kedzie Ave & Palmer Ct', 'Montrose Harbor', 'State St & 76th St', 'Rhodes Ave & 32nd St', 'Wentworth Ave & 33rd St', 'Greenwood Ave & 47th St', 'Indiana Ave & Roosevelt Rd', 'Halsted St & Polk St', 'Western Ave & Walton St', 'Clark St & Lunt Ave', 'Damen Ave & Clybourn Ave', 'Indiana Ave & 40th St', 'Calumet Ave & 33rd St', 'Sheffield Ave & Fullerton Ave', 'Michigan Ave & Oak St', 'MLK Jr Dr & Oakwood Blvd', 'Sedgwick St & Webster Ave', 'Pulaski Rd & Eddy St', 'Sheridan Rd & Noyes St (NU)', 'Wolcott Ave & Fargo Ave', 'Ellis Ave & 83rd St', 'University Ave & 57th St', 'Kingsbury St & Erie St', 'Halsted St & Roscoe St', 'Indiana Ave & 26th St', 'Dorchester Ave & 49th St', 'Fort Dearborn Dr & 31st St', 'Federal St & Polk St', 'Prairie Ave & Garfield Blvd', 'Clark St & Congress Pkwy', 'California Ave & Francis Pl', 'Racine Ave & 35th St', 'Central Ave & Lake St', 'Streeter Dr & Grand Ave', 'Broadway & Belmont Ave', '2112 W Peterson Ave', 'California Ave & 26th St', 'Southport Ave & Wrightwood Ave', 'Shields Ave & 31st St', 'Halsted St & North Branch St', 'Sheridan Rd & Buena Ave', 'Campbell Ave & Montrose Ave', 'Damen Ave & 59th St', 'South Shore Dr & 74th St', 'Valli Produce - Evanston Plaza', 'Wood St & Milwaukee Ave', 'Sheridan Rd & Loyola Ave', 'Elizabeth St & 47th St', 'Clark St & Lincoln Ave', 'Jeffery Blvd & 71st St', 'Wood St & 35th St', 'Calumet Ave & 51st St', 'State St & Pearson St', 'Canal St & Madison St', 'Damen Ave & Coulter St', 'Damen Ave & Division St', 'Dayton St & North Ave', 'Lake Shore Dr & Ohio St', 'Michigan Ave & Congress Pkwy', 'Damen Ave & Madison St', 'Damen Ave & Cullerton St', 'Ashland Ave & Lake St', 'Kimball Ave & Belmont Ave', 'Woodlawn Ave & Lake Park Ave', 'Wabash Ave & Wacker Pl', 'Cityfront Plaza Dr & Pioneer Ct', 'Kostner Ave & Lake St', 'Lake Park Ave & 35th St', 'Shore Dr & 55th St', 'Ashland Ave & McDowell Ave', 'Rush St & Cedar St', 'Normal Ave & Archer Ave', 'Clark St & Bryn Mawr Ave', 'Damen Ave & Cortland St', 'Damen Ave & Sunnyside Ave', 'Clark St & Randolph St', 'Damen Ave & Pershing Rd', 'California Ave & Altgeld St', 'Hoyne Ave & 47th St', 'Shields Ave & 43rd St', 'Damen Ave & Melrose Ave', 'Ridge Blvd & Touhy Ave', 'Stony Island Ave & 71st St', 'State St & 19th St', 'Canal St & Monroe St (*)', 'Jefferson St & Monroe St', 'Lincoln Ave & Winona St', 'Noble St & Milwaukee Ave', 'Theater on the Lake', 'LaSalle St & Illinois St', 'Phillips Ave & 82nd St', 'Cottage Grove Ave & 83rd St', 'Larrabee St & Division St', 'MLK Jr Dr & 83rd St', 'Seeley Ave & Garfield Blvd', 'Lakeview Ave & Fullerton Pkwy', 'Claremont Ave & Hirsch St', 'Larrabee St & Armitage Ave', 'Ellis Ave & 60th St', 'California Ave & Cortez St', 'Ashland Ave & Chicago Ave', 'Sheffield Ave & Waveland Ave', 'Lake Shore Dr & Monroe St', 'Union Ave & Root St', 'Wabash Ave & 8th St', 'Western Ave & 24th St', 'Aberdeen St & Monroe St', 'Milwaukee Ave & Wabansia Ave', 'Western Ave & Congress Pkwy', 'Franklin St & Quincy St', 'Christiana Ave & Lawrence Ave', 'Morgan St & 18th St', 'South Shore Dr & 71st St', 'Kedzie Ave & Harrison St', 'Ogden Ave & Chicago Ave', 'Clark St & Schiller St', 'Lawndale Ave & 23rd St', 'Damen Ave & Wellington Ave', 'Leavitt St & Addison St', 'Adler Planetarium', 'Keystone Ave & Montrose Ave', 'Sedgwick St & Schiller St', 'Chicago Ave & Washington St', 'Ogden Ave & Race Ave', 'Broadway & Berwyn Ave', 'Morgan St & Lake St', 'Clark St & Jarvis Ave', 'Larrabee St & North Ave', 'State St & 33rd St', 'May St & 69th St', 'Normal Ave & 72nd St', 'Dusable Harbor', 'Loomis St & Taylor St (*)', 'Woodlawn Ave & 75th St', 'Southport Ave & Wellington Ave', 'Vernon Ave & 75th St', 'Michigan Ave & Madison St', 'Racine Ave (May St) & Fulton St', 'Perry Ave & 69th St', 'Leavitt St & North Ave', 'Rainbow Beach', '63rd St Beach', 'Austin Blvd & Lake St', 'Halsted St & 18th St', 'Lincoln Ave & Waveland Ave', 'Damen Ave & Foster Ave', 'Clark St & Elmdale Ave', 'Clark St & Grace St', 'Oak Park Ave & Harrison St', 'Lincoln Ave & Belle Plaine Ave', 'Desplaines St & Jackson Blvd', 'Calumet Ave & 71st St', 'Greenview Ave & Diversey Pkwy', 'Michigan Ave & Washington St', 'Wood St & Hubbard St', 'Mason Ave & Madison St', 'Halsted St & Maxwell St', 'Wabash Ave & Roosevelt Rd', 'Lake Shore Dr & North Blvd', 'Clinton St & 18th St', 'Cottage Grove Ave & 78th St', 'Lombard Ave & Madison St', 'Wilton Ave & Belmont Ave', 'Cannon Dr & Fullerton Ave', 'Ogden Ave & Congress Pkwy', 'Pine Grove Ave & Irving Park Rd', 'Cicero Ave & Quincy St', 'Halsted St & Willow St', 'Kimbark Ave & 53rd St', 'Larrabee St & Webster Ave', 'Central Park Ave & Elbridge Ave', 'Western Ave & 21st St', 'Broadway & Wilson Ave', 'Western Blvd & 48th Pl', 'Sheridan Rd & Lawrence Ave', 'Central Park Blvd & 5th Ave', 'Wells St & Polk St', 'Manor Ave & Leland Ave', 'Wallace St & 35th St', 'Wentworth Ave & 35th St', 'Wentworth Ave & Archer Ave', 'MLK Jr Dr & 56th St (*)', 'Green St & Madison St', 'Glenwood Ave & Morse Ave', 'Southport Ave & Belmont Ave', 'Stony Island Ave & South Chicago Ave', 'Cottage Grove Ave & 67th St', 'Hampden Ct & Diversey Pkwy', 'Western Ave & Winnebago Ave', 'Larrabee St & Oak St', 'Paulina Ave & North Ave', 'Wentworth Ave & 24th St', 'Racine Ave & Garfield Blvd', 'Wabash Ave & 16th St'}\n"
     ]
    },
    {
     "name": "stdout",
     "output_type": "stream",
     "text": [
      "Aperte Enter para continuar...\n"
     ]
    },
    {
     "data": {
      "text/plain": [
       "''"
      ]
     },
     "execution_count": 18,
     "metadata": {},
     "output_type": "execute_result"
    }
   ],
   "source": [
    "# TAREFA 10\n",
    "# Gênero é fácil porque nós temos apenas algumas opções. E quanto a start_stations? Quantas opções ele tem?\n",
    "# TODO: Verifique quantos tipos de start_stations nós temos, usando set()\n",
    "start_stations_list = column_to_list(data_list, 3) # Recebendo os dados da coluna start_stations e adicionando-os a uma lista.\n",
    "user_types = set(start_stations_list)              # Verificando quantos nomes de estações diferentes estão cadastradas.\n",
    "\n",
    "print(\"\\nTAREFA 10: Imprimindo as start stations:\")\n",
    "print(len(user_types))\n",
    "print(user_types)\n",
    "\n",
    "# ------------ NÃO MUDE NENHUM CÓDIGO AQUI ------------\n",
    "assert len(user_types) == 582, \"TAREFA 10: Comprimento errado de start stations.\"\n",
    "# -----------------------------------------------------\n",
    "\n",
    "input(\"Aperte Enter para continuar...\")"
   ]
  },
  {
   "cell_type": "code",
   "execution_count": 19,
   "metadata": {},
   "outputs": [
    {
     "ename": "IndentationError",
     "evalue": "unexpected indent (<ipython-input-19-cb231d87095c>, line 4)",
     "output_type": "error",
     "traceback": [
      "\u001b[0;36m  File \u001b[0;32m\"<ipython-input-19-cb231d87095c>\"\u001b[0;36m, line \u001b[0;32m4\u001b[0m\n\u001b[0;31m    \"\"\"\u001b[0m\n\u001b[0m    ^\u001b[0m\n\u001b[0;31mIndentationError\u001b[0m\u001b[0;31m:\u001b[0m unexpected indent\n"
     ]
    }
   ],
   "source": [
    "#TAREFA 11\n",
    "# Volte e tenha certeza que você documenteou suas funções. Explique os parâmetros de entrada, a saída, e o que a função faz. Exemplo:\n",
    "# def new_function(param1: int, param2: str) -> list:\n",
    "      \"\"\"\n",
    "      Função de exemplo com anotações.\n",
    "      Argumentos:\n",
    "          param1: O primeiro parâmetro.\n",
    "          param2: O segundo parâmetro.\n",
    "      Retorna:\n",
    "          Uma lista de valores x.\n",
    "\n",
    "      \"\"\"\n",
    "\n",
    "input(\"Aperte Enter para continuar...\")\n",
    "# TAREFA 12 - Desafio! (Opcional)\n",
    "# TODO: Crie uma função para contar tipos de usuários, sem definir os tipos\n",
    "# para que nós possamos usar essa função com outra categoria de dados.\n",
    "print(\"Você vai encarar o desafio? (yes ou no)\")\n",
    "answer = \"no\"\n",
    "\n",
    "def count_items(column_list):\n",
    "    item_types = []\n",
    "    count_items = []\n",
    "    return item_types, count_items\n",
    "\n",
    "\n",
    "if answer == \"yes\":\n",
    "    # ------------ NÃO MUDE NENHUM CÓDIGO AQUI ------------\n",
    "    column_list = column_to_list(data_list, -2)\n",
    "    types, counts = count_items(column_list)\n",
    "    print(\"\\nTAREFA 11: Imprimindo resultados para count_items()\")\n",
    "    print(\"Tipos:\", types, \"Counts:\", counts)\n",
    "    assert len(types) == 3, \"TAREFA 11: Há 3 tipos de gênero!\"\n",
    "    assert sum(counts) == 1551505, \"TAREFA 11: Resultado de retorno incorreto!\"\n",
    "    # -----------------------------------------------------"
   ]
  },
  {
   "cell_type": "code",
   "execution_count": null,
   "metadata": {},
   "outputs": [],
   "source": []
  }
 ],
 "metadata": {
  "kernelspec": {
   "display_name": "Python 3",
   "language": "python",
   "name": "python3"
  },
  "language_info": {
   "codemirror_mode": {
    "name": "ipython",
    "version": 3
   },
   "file_extension": ".py",
   "mimetype": "text/x-python",
   "name": "python",
   "nbconvert_exporter": "python",
   "pygments_lexer": "ipython3",
   "version": "3.6.5"
  }
 },
 "nbformat": 4,
 "nbformat_minor": 2
}
